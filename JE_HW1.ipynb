{
 "cells": [
  {
   "cell_type": "markdown",
   "metadata": {},
   "source": [
    "### Justin Ehly\n",
    "#### HW1 - NLP"
   ]
  },
  {
   "cell_type": "code",
   "execution_count": 65,
   "metadata": {},
   "outputs": [],
   "source": [
    "# 2. create lexical diversity scoring routine\n",
    "import nltk\n",
    "def lexical_diversity(text):\n",
    "    voc_size = len(text)\n",
    "    lex_div = len(set(text)) / voc_size\n",
    "    return lex_div, voc_size\n",
    "\n",
    "def word_percentage(word, text):\n",
    "    raw_perc = text.count(word)/ len(text) * 100\n",
    "    perc = \"{0:.2%}\".format(raw_perc/100)\n",
    "    return raw_perc, perc"
   ]
  },
  {
   "cell_type": "code",
   "execution_count": 68,
   "metadata": {},
   "outputs": [],
   "source": [
    "\n",
    "\n",
    "# get data from the gutenberg.org website as utf-8 text encoded text files, remove the \\r\\n and blank lines\n",
    "import urllib\n",
    "\n",
    "def get_reader(url):\n",
    "    file = urllib.request.urlopen(url)\n",
    "\n",
    "    with file as f:\n",
    "        lines = f.readlines()\n",
    "\n",
    "    lines = [x.decode('utf-8') for x in lines]\n",
    "    lines = [x[:-4] for x in lines if x[:-4] != '']\n",
    "    return lines\n",
    "\n",
    "first = get_reader('https://www.gutenberg.org/cache/epub/14640/pg14640.txt')\n",
    "second = get_reader('https://www.gutenberg.org/cache/epub/14668/pg14668.txt')\n",
    "third = get_reader('https://www.gutenberg.org/cache/epub/14766/pg14766.txt')\n",
    "fourth = get_reader('https://www.gutenberg.org/cache/epub/14880/pg14880.txt')\n",
    "fifth = get_reader('https://www.gutenberg.org/cache/epub/15040/pg15040.txt')\n",
    "sixth = get_reader('https://www.gutenberg.org/cache/epub/16751/pg16751.txt')\n",
    "seventh = get_reader('https://www.gutenberg.org/cache/epub/19721/pg19721.txt')\n",
    "\n",
    "\n"
   ]
  },
  {
   "cell_type": "code",
   "execution_count": 67,
   "metadata": {},
   "outputs": [
    {
     "name": "stdout",
     "output_type": "stream",
     "text": [
      "first lexical diversity score: 0.9634630659253376, vocabulary size: 1259\n",
      "second lexical diversity score: 0.9634146341463414, vocabulary size: 2460\n",
      "third lexical diversity score: 0.9619047619047619, vocabulary size: 3780\n",
      "fourth lexical diversity score: 0.9911264851857422, vocabulary size: 6649\n",
      "fifth lexical diversity score: 0.9872780784202032, vocabulary size: 10533\n",
      "sixth lexical diversity score: 0.9853685597392691, vocabulary size: 14421\n",
      "seventh lexical diversity score: 0.9919767325243205, vocabulary size: 9971\n"
     ]
    }
   ],
   "source": [
    "\n",
    "readers = {'first': first,\n",
    "           'second': second,\n",
    "           'third': third,\n",
    "           'fourth': fourth, \n",
    "           'fifth': fifth, \n",
    "           'sixth': sixth, \n",
    "           'seventh': seventh}\n",
    "\n",
    "scores = {}\n",
    "\n",
    "for grade, reader in readers.items():\n",
    "    scores[grade] = lexical_diversity(reader)\n",
    "\n",
    "\n",
    "for k,v in scores.items():\n",
    "    print('%s lexical diversity score: %s, vocabulary size: %s' % (k, v[0], v[1]))\n"
   ]
  },
  {
   "cell_type": "markdown",
   "metadata": {},
   "source": [
    "<font color='blue'>3. Go to http://www.gutenberg.org/ebooks/bookshelf/215  and select texts of different grade levels (e.g., fourth reader, fifth reader et al).\n",
    "   Report the lexical diversity score of each. Explain whether the result was surprising.</font>\n",
    "\n",
    "  - The initial results are surprising because I expected there to be an increase with the lexical diversity score as the grade level advances and the human brain matures.\n",
    "\n",
    "\n",
    "<font color='blue'>4. Also compare the vocabulary size of the same three texts. Explain whether the result was surprising.  </font>\n",
    "\n",
    "  - On further thought, this does make sense because as the brain is advancing, it is actually learning more faster so there are more diverse words with each longer book.\n",
    "  - The 7th grade book is a story book, so while it has less vocabulary words, it may have more complex words."
   ]
  },
  {
   "cell_type": "markdown",
   "metadata": {},
   "source": [
    "<font color='blue'>5. Write a paragraph arguing whether vocabulary size and lexical diversity in combination could be a better measure of text difficulty (or reading level) than either measure is by itself</font>\n",
    "\n",
    "  - When comparing different skill levels of text or langauge, it is important to take into considerion both the lexical diversity score, that is the ratio of the unique words or tokens to the total vocabulary size well as the vocabulary size itself. Simply comparing lexical diversity scores between different grade level reading texts there is no substantial observable difference with a range from .96 to .99 from first through seventh grade. When vocabulty size of those among the different texts is compared, it becomes apparent that there is a wider range of the number of words used starting with 1,259 words in the first grade version and 14,421 words in the sixth grade version. It should be noted that the seventh grade version was a compilation of stories versus a more straight forward syntactical guide found in the other texts. By utilizing the vocabulary size in conjunction with the lexical diversity score, it can be concluded that the level of complexity remains proportionate the size of the vocabulary as the texts progress numerically. In other words, the texts include more diverse vocabulary at a higher rate of speed."
   ]
  },
  {
   "cell_type": "markdown",
   "metadata": {},
   "source": []
  }
 ],
 "metadata": {
  "interpreter": {
   "hash": "dc76590e1530504174433028253576690c6f5ed15348c7b1c3cd4d3d39be5941"
  },
  "kernelspec": {
   "display_name": "Python 3.9.9 64-bit ('nlp': conda)",
   "language": "python",
   "name": "python3"
  },
  "language_info": {
   "codemirror_mode": {
    "name": "ipython",
    "version": 3
   },
   "file_extension": ".py",
   "mimetype": "text/x-python",
   "name": "python",
   "nbconvert_exporter": "python",
   "pygments_lexer": "ipython3",
   "version": "3.9.9"
  },
  "orig_nbformat": 4
 },
 "nbformat": 4,
 "nbformat_minor": 2
}
